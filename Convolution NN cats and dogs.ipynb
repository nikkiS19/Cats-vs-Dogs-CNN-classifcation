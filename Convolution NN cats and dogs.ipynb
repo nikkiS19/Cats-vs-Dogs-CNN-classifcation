{
 "cells": [
  {
   "cell_type": "code",
   "execution_count": 1,
   "metadata": {},
   "outputs": [
    {
     "name": "stdout",
     "output_type": "stream",
     "text": [
      "Train on 17462 samples, validate on 7484 samples\n",
      "Epoch 1/10\n",
      "17462/17462 [==============================] - 127s 7ms/sample - loss: 0.6548 - accuracy: 0.6088 - val_loss: 0.6133 - val_accuracy: 0.6729\n",
      "Epoch 2/10\n",
      "17462/17462 [==============================] - 129s 7ms/sample - loss: 0.5907 - accuracy: 0.6914 - val_loss: 0.5564 - val_accuracy: 0.7185\n",
      "Epoch 3/10\n",
      "17462/17462 [==============================] - 131s 8ms/sample - loss: 0.5333 - accuracy: 0.7346 - val_loss: 0.5119 - val_accuracy: 0.7535\n",
      "Epoch 4/10\n",
      "17462/17462 [==============================] - 130s 7ms/sample - loss: 0.4978 - accuracy: 0.7632 - val_loss: 0.4866 - val_accuracy: 0.7708\n",
      "Epoch 5/10\n",
      "17462/17462 [==============================] - 123s 7ms/sample - loss: 0.4718 - accuracy: 0.7755 - val_loss: 0.4775 - val_accuracy: 0.7767\n",
      "Epoch 6/10\n",
      "17462/17462 [==============================] - 138s 8ms/sample - loss: 0.4551 - accuracy: 0.7870 - val_loss: 0.4800 - val_accuracy: 0.7774\n",
      "Epoch 7/10\n",
      "17462/17462 [==============================] - 144s 8ms/sample - loss: 0.4372 - accuracy: 0.7971 - val_loss: 0.4667 - val_accuracy: 0.7893\n",
      "Epoch 8/10\n",
      "17462/17462 [==============================] - 135s 8ms/sample - loss: 0.4180 - accuracy: 0.8079 - val_loss: 0.5008 - val_accuracy: 0.7652\n",
      "Epoch 9/10\n",
      "17462/17462 [==============================] - 121s 7ms/sample - loss: 0.3987 - accuracy: 0.8177 - val_loss: 0.4695 - val_accuracy: 0.7873\n",
      "Epoch 10/10\n",
      "17462/17462 [==============================] - 122s 7ms/sample - loss: 0.3873 - accuracy: 0.8243 - val_loss: 0.4729 - val_accuracy: 0.7822\n"
     ]
    },
    {
     "data": {
      "text/plain": [
       "<tensorflow.python.keras.callbacks.History at 0x2582aae1940>"
      ]
     },
     "execution_count": 1,
     "metadata": {},
     "output_type": "execute_result"
    }
   ],
   "source": [
    "import numpy as np\n",
    "import tensorflow as tf\n",
    "from tensorflow.keras.models import Sequential\n",
    "from tensorflow.keras.layers import Dense, Dropout, Activation, Flatten, Conv2D, MaxPooling2D\n",
    "import pickle\n",
    "\n",
    "X = pickle.load(open(\"X.pickle\",\"rb\"))\n",
    "X = np.array(X)\n",
    "y = pickle.load(open(\"y.pickle\",\"rb\"))\n",
    "y = np.array(y)\n",
    "\n",
    "\n",
    "#before feeding the data to the neura network we normalize the data, easiest way to normalize is to scale the data\n",
    "#we are using imagery data to easiest way to scale is divide by max value 255\n",
    "X = X/255.0\n",
    "\n",
    "model = Sequential() \n",
    "model.add(Conv2D(64,(3,3),input_shape = X.shape[1:])) #3x3 is window size, [1:] is used to avoid '-1' input\n",
    "#after the convolution layer, we can either pass pooling or activation layer\n",
    "model.add(Activation(\"relu\"))\n",
    "model.add(MaxPooling2D(pool_size=(2,2)))\n",
    "\n",
    "#second layer\n",
    "model.add(Conv2D(64,(3,3))) \n",
    "model.add(Activation(\"relu\"))\n",
    "model.add(MaxPooling2D(pool_size=(2,2)))\n",
    "#flatten the data as conv is 2D whereas Dense layer wants a 1D datast\n",
    "model.add(Flatten())\n",
    "model.add(Dense(64))\n",
    "\n",
    "#output layer\n",
    "model.add(Dense(1))\n",
    "model.add(Activation('sigmoid'))\n",
    "\n",
    "model.compile(loss='binary_crossentropy',\n",
    "              optimizer='adam',\n",
    "              metrics=['accuracy']) #since it is distinguishing between cats & dogs so binary loss is used bt u can also use classification\n",
    "model.fit(X,y,batch_size=32,epochs=10,validation_split=0.3)"
   ]
  },
  {
   "cell_type": "code",
   "execution_count": 2,
   "metadata": {},
   "outputs": [
    {
     "name": "stderr",
     "output_type": "stream",
     "text": [
      "WARNING: Logging before flag parsing goes to stderr.\n",
      "W0324 20:08:08.360724  7160 deprecation.py:506] From c:\\users\\nikki\\appdata\\local\\programs\\python\\python36\\lib\\site-packages\\tensorflow_core\\python\\ops\\resource_variable_ops.py:1781: calling BaseResourceVariable.__init__ (from tensorflow.python.ops.resource_variable_ops) with constraint is deprecated and will be removed in a future version.\n",
      "Instructions for updating:\n",
      "If using Keras pass *_constraint arguments to layers.\n"
     ]
    }
   ],
   "source": [
    "model.save('64x3-CNN.model')"
   ]
  },
  {
   "cell_type": "code",
   "execution_count": null,
   "metadata": {},
   "outputs": [],
   "source": []
  }
 ],
 "metadata": {
  "kernelspec": {
   "display_name": "Python 3",
   "language": "python",
   "name": "python3"
  },
  "language_info": {
   "codemirror_mode": {
    "name": "ipython",
    "version": 3
   },
   "file_extension": ".py",
   "mimetype": "text/x-python",
   "name": "python",
   "nbconvert_exporter": "python",
   "pygments_lexer": "ipython3",
   "version": "3.6.8"
  }
 },
 "nbformat": 4,
 "nbformat_minor": 2
}
